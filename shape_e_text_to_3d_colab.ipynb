{
  "cells": [
    {
      "cell_type": "markdown",
      "metadata": {
        "id": "view-in-github",
        "colab_type": "text"
      },
      "source": [
        "<a href=\"https://colab.research.google.com/github/BrutFab/shap-e_colab/blob/main/shape_e_text_to_3d_colab.ipynb\" target=\"_parent\"><img src=\"https://colab.research.google.com/assets/colab-badge.svg\" alt=\"Open In Colab\"/></a>"
      ]
    },
    {
      "cell_type": "code",
      "source": [
        "!git clone https://github.com/openai/shap-e"
      ],
      "metadata": {
        "colab": {
          "base_uri": "https://localhost:8080/"
        },
        "id": "5S6S_IGGNjOg",
        "outputId": "57db1e24-7686-4250-aeb2-78d57c0cbc51"
      },
      "execution_count": null,
      "outputs": [
        {
          "output_type": "stream",
          "name": "stdout",
          "text": [
            "Cloning into 'shap-e'...\n",
            "remote: Enumerating objects: 322, done.\u001b[K\n",
            "remote: Counting objects: 100% (48/48), done.\u001b[K\n",
            "remote: Compressing objects: 100% (31/31), done.\u001b[K\n",
            "remote: Total 322 (delta 31), reused 17 (delta 17), pack-reused 274\u001b[K\n",
            "Receiving objects: 100% (322/322), 11.71 MiB | 15.16 MiB/s, done.\n",
            "Resolving deltas: 100% (45/45), done.\n"
          ]
        }
      ]
    },
    {
      "cell_type": "code",
      "source": [
        "%cd shap-e"
      ],
      "metadata": {
        "colab": {
          "base_uri": "https://localhost:8080/"
        },
        "id": "uVsGq19rN8Fm",
        "outputId": "2d71b497-cb19-4f40-ab79-e636e7c716bd"
      },
      "execution_count": null,
      "outputs": [
        {
          "output_type": "stream",
          "name": "stdout",
          "text": [
            "/content/shap-e\n"
          ]
        }
      ]
    },
    {
      "cell_type": "code",
      "source": [
        "!pip install -e ."
      ],
      "metadata": {
        "id": "idlKJ9WtOBB0"
      },
      "execution_count": null,
      "outputs": []
    },
    {
      "cell_type": "code",
      "source": [
        "import torch\n",
        "\n",
        "from shap_e.diffusion.sample import sample_latents\n",
        "from shap_e.diffusion.gaussian_diffusion import diffusion_from_config\n",
        "from shap_e.models.download import load_model, load_config\n",
        "from shap_e.util.notebooks import create_pan_cameras, decode_latent_images, gif_widget"
      ],
      "metadata": {
        "id": "cBX1WHwiOL-p"
      },
      "execution_count": null,
      "outputs": []
    },
    {
      "cell_type": "code",
      "source": [
        "device = torch.device('cuda' if torch.cuda.is_available() else 'cpu')"
      ],
      "metadata": {
        "id": "H9u87BEmOdXv"
      },
      "execution_count": null,
      "outputs": []
    },
    {
      "cell_type": "code",
      "source": [
        "xm = load_model('transmitter', device=device)\n",
        "model = load_model('text300M', device=device)\n",
        "diffusion = diffusion_from_config(load_config('diffusion'))"
      ],
      "metadata": {
        "id": "Dqkiv5AVOk7_"
      },
      "execution_count": null,
      "outputs": []
    },
    {
      "cell_type": "code",
      "source": [
        "batch_size = 1\n",
        "guidance_scale = 15.0\n",
        "prompt = \"a shark\"\n",
        "\n",
        "latents = sample_latents(\n",
        "    batch_size=batch_size,\n",
        "    model=model,\n",
        "    diffusion=diffusion,\n",
        "    guidance_scale=guidance_scale,\n",
        "    model_kwargs=dict(texts=[prompt] * batch_size),\n",
        "    progress=True,\n",
        "    clip_denoised=True,\n",
        "    use_fp16=True,\n",
        "    use_karras=True,\n",
        "    karras_steps=64,\n",
        "    sigma_min=1e-3,\n",
        "    sigma_max=160,\n",
        "    s_churn=0,\n",
        ")"
      ],
      "metadata": {
        "colab": {
          "base_uri": "https://localhost:8080/",
          "height": 49,
          "referenced_widgets": [
            "0c1baf4f7f9d4c9cbf2287cb76fc0b5a",
            "e5081eb933164ce0af77a1a5b7bc94a5",
            "dad2bade9ccf47a19526d1fb7a2ec819",
            "f77a310f283240e6989b8334c5ede4ea",
            "7c70c02ef52b490faeb23171d8103ece",
            "f6c78f04e87e40ffa91bcacc3ac77843",
            "b271596c736748d5868eb18005780cdf",
            "0d29adc9ca394c448de6bf5ded988979",
            "926f8e5e04f843049ac35034e3e505a7",
            "9f5e7608fd314698af23abe88faac46c",
            "650fbfe97a14400496a2e28544e738c1"
          ]
        },
        "id": "mWwUoNlgOmOy",
        "outputId": "d8ed8f35-24c5-4467-ab4b-ab61069b4e42"
      },
      "execution_count": null,
      "outputs": [
        {
          "output_type": "display_data",
          "data": {
            "text/plain": [
              "  0%|          | 0/64 [00:00<?, ?it/s]"
            ],
            "application/vnd.jupyter.widget-view+json": {
              "version_major": 2,
              "version_minor": 0,
              "model_id": "0c1baf4f7f9d4c9cbf2287cb76fc0b5a"
            }
          },
          "metadata": {}
        }
      ]
    },
    {
      "cell_type": "code",
      "source": [
        "render_mode = 'nerf' # you can change this to 'stf'\n",
        "size = 64 # this is the size of the renders; higher values take longer to render.\n",
        "\n",
        "cameras = create_pan_cameras(size, device)\n",
        "for i, latent in enumerate(latents):\n",
        "    images = decode_latent_images(xm, latent, cameras, rendering_mode=render_mode)\n",
        "    display(gif_widget(images))"
      ],
      "metadata": {
        "colab": {
          "base_uri": "https://localhost:8080/",
          "referenced_widgets": [
            "368f45074a81401892897017d2c79434",
            "d8a611dff17e4ecc9e2c04c3fedfd060",
            "bc44039522504866b6cb8243f9748f88"
          ]
        },
        "id": "lzjXWU7DP_SI",
        "outputId": "01afc02b-9247-4fd1-cf1b-3cca3d9128d1"
      },
      "execution_count": null,
      "outputs": [
        {
          "output_type": "display_data",
          "data": {
            "text/plain": [
              "HTML(value='<img src=\"data:image/gif;base64,R0lGODlhQABAAIMAAAAAAAAAMwAzMzMzMwAzZjMzZgBmZjNmZmZmZjMzmQBmmTNmmW…"
            ],
            "application/vnd.jupyter.widget-view+json": {
              "version_major": 2,
              "version_minor": 0,
              "model_id": "368f45074a81401892897017d2c79434"
            }
          },
          "metadata": {}
        }
      ]
    },
    {
      "cell_type": "code",
      "source": [
        "# Example of saving the latents as meshes.\n",
        "from shap_e.util.notebooks import decode_latent_mesh\n",
        "\n",
        "for i, latent in enumerate(latents):\n",
        "    t = decode_latent_mesh(xm, latent).tri_mesh()\n",
        "    with open(f'spaceship_{i}.obj', 'w') as f:\n",
        "        t.write_obj(f)"
      ],
      "metadata": {
        "id": "B9POyt0IQlsk"
      },
      "execution_count": null,
      "outputs": []
    }
  ],
  "metadata": {
    "accelerator": "GPU",
    "colab": {
      "provenance": [],
      "gpuType": "T4",
      "authorship_tag": "ABX9TyMqh+4m4/U5e0b9spoOeYvw",
      "include_colab_link": true
    },
    "kernelspec": {
      "display_name": "Python 3",
      "name": "python3"
    },
    "language_info": {
      "name": "python"
    },
    "widgets": {
      "application/vnd.jupyter.widget-state+json": {
        "0c1baf4f7f9d4c9cbf2287cb76fc0b5a": {
          "model_module": "@jupyter-widgets/controls",
          "model_name": "HBoxModel",
          "model_module_version": "1.5.0",
          "state": {
            "_dom_classes": [],
            "_model_module": "@jupyter-widgets/controls",
            "_model_module_version": "1.5.0",
            "_model_name": "HBoxModel",
            "_view_count": null,
            "_view_module": "@jupyter-widgets/controls",
            "_view_module_version": "1.5.0",
            "_view_name": "HBoxView",
            "box_style": "",
            "children": [
              "IPY_MODEL_e5081eb933164ce0af77a1a5b7bc94a5",
              "IPY_MODEL_dad2bade9ccf47a19526d1fb7a2ec819",
              "IPY_MODEL_f77a310f283240e6989b8334c5ede4ea"
            ],
            "layout": "IPY_MODEL_7c70c02ef52b490faeb23171d8103ece"
          }
        },
        "e5081eb933164ce0af77a1a5b7bc94a5": {
          "model_module": "@jupyter-widgets/controls",
          "model_name": "HTMLModel",
          "model_module_version": "1.5.0",
          "state": {
            "_dom_classes": [],
            "_model_module": "@jupyter-widgets/controls",
            "_model_module_version": "1.5.0",
            "_model_name": "HTMLModel",
            "_view_count": null,
            "_view_module": "@jupyter-widgets/controls",
            "_view_module_version": "1.5.0",
            "_view_name": "HTMLView",
            "description": "",
            "description_tooltip": null,
            "layout": "IPY_MODEL_f6c78f04e87e40ffa91bcacc3ac77843",
            "placeholder": "​",
            "style": "IPY_MODEL_b271596c736748d5868eb18005780cdf",
            "value": "100%"
          }
        },
        "dad2bade9ccf47a19526d1fb7a2ec819": {
          "model_module": "@jupyter-widgets/controls",
          "model_name": "FloatProgressModel",
          "model_module_version": "1.5.0",
          "state": {
            "_dom_classes": [],
            "_model_module": "@jupyter-widgets/controls",
            "_model_module_version": "1.5.0",
            "_model_name": "FloatProgressModel",
            "_view_count": null,
            "_view_module": "@jupyter-widgets/controls",
            "_view_module_version": "1.5.0",
            "_view_name": "ProgressView",
            "bar_style": "success",
            "description": "",
            "description_tooltip": null,
            "layout": "IPY_MODEL_0d29adc9ca394c448de6bf5ded988979",
            "max": 64,
            "min": 0,
            "orientation": "horizontal",
            "style": "IPY_MODEL_926f8e5e04f843049ac35034e3e505a7",
            "value": 64
          }
        },
        "f77a310f283240e6989b8334c5ede4ea": {
          "model_module": "@jupyter-widgets/controls",
          "model_name": "HTMLModel",
          "model_module_version": "1.5.0",
          "state": {
            "_dom_classes": [],
            "_model_module": "@jupyter-widgets/controls",
            "_model_module_version": "1.5.0",
            "_model_name": "HTMLModel",
            "_view_count": null,
            "_view_module": "@jupyter-widgets/controls",
            "_view_module_version": "1.5.0",
            "_view_name": "HTMLView",
            "description": "",
            "description_tooltip": null,
            "layout": "IPY_MODEL_9f5e7608fd314698af23abe88faac46c",
            "placeholder": "​",
            "style": "IPY_MODEL_650fbfe97a14400496a2e28544e738c1",
            "value": " 64/64 [00:23&lt;00:00,  3.12it/s]"
          }
        },
        "7c70c02ef52b490faeb23171d8103ece": {
          "model_module": "@jupyter-widgets/base",
          "model_name": "LayoutModel",
          "model_module_version": "1.2.0",
          "state": {
            "_model_module": "@jupyter-widgets/base",
            "_model_module_version": "1.2.0",
            "_model_name": "LayoutModel",
            "_view_count": null,
            "_view_module": "@jupyter-widgets/base",
            "_view_module_version": "1.2.0",
            "_view_name": "LayoutView",
            "align_content": null,
            "align_items": null,
            "align_self": null,
            "border": null,
            "bottom": null,
            "display": null,
            "flex": null,
            "flex_flow": null,
            "grid_area": null,
            "grid_auto_columns": null,
            "grid_auto_flow": null,
            "grid_auto_rows": null,
            "grid_column": null,
            "grid_gap": null,
            "grid_row": null,
            "grid_template_areas": null,
            "grid_template_columns": null,
            "grid_template_rows": null,
            "height": null,
            "justify_content": null,
            "justify_items": null,
            "left": null,
            "margin": null,
            "max_height": null,
            "max_width": null,
            "min_height": null,
            "min_width": null,
            "object_fit": null,
            "object_position": null,
            "order": null,
            "overflow": null,
            "overflow_x": null,
            "overflow_y": null,
            "padding": null,
            "right": null,
            "top": null,
            "visibility": null,
            "width": null
          }
        },
        "f6c78f04e87e40ffa91bcacc3ac77843": {
          "model_module": "@jupyter-widgets/base",
          "model_name": "LayoutModel",
          "model_module_version": "1.2.0",
          "state": {
            "_model_module": "@jupyter-widgets/base",
            "_model_module_version": "1.2.0",
            "_model_name": "LayoutModel",
            "_view_count": null,
            "_view_module": "@jupyter-widgets/base",
            "_view_module_version": "1.2.0",
            "_view_name": "LayoutView",
            "align_content": null,
            "align_items": null,
            "align_self": null,
            "border": null,
            "bottom": null,
            "display": null,
            "flex": null,
            "flex_flow": null,
            "grid_area": null,
            "grid_auto_columns": null,
            "grid_auto_flow": null,
            "grid_auto_rows": null,
            "grid_column": null,
            "grid_gap": null,
            "grid_row": null,
            "grid_template_areas": null,
            "grid_template_columns": null,
            "grid_template_rows": null,
            "height": null,
            "justify_content": null,
            "justify_items": null,
            "left": null,
            "margin": null,
            "max_height": null,
            "max_width": null,
            "min_height": null,
            "min_width": null,
            "object_fit": null,
            "object_position": null,
            "order": null,
            "overflow": null,
            "overflow_x": null,
            "overflow_y": null,
            "padding": null,
            "right": null,
            "top": null,
            "visibility": null,
            "width": null
          }
        },
        "b271596c736748d5868eb18005780cdf": {
          "model_module": "@jupyter-widgets/controls",
          "model_name": "DescriptionStyleModel",
          "model_module_version": "1.5.0",
          "state": {
            "_model_module": "@jupyter-widgets/controls",
            "_model_module_version": "1.5.0",
            "_model_name": "DescriptionStyleModel",
            "_view_count": null,
            "_view_module": "@jupyter-widgets/base",
            "_view_module_version": "1.2.0",
            "_view_name": "StyleView",
            "description_width": ""
          }
        },
        "0d29adc9ca394c448de6bf5ded988979": {
          "model_module": "@jupyter-widgets/base",
          "model_name": "LayoutModel",
          "model_module_version": "1.2.0",
          "state": {
            "_model_module": "@jupyter-widgets/base",
            "_model_module_version": "1.2.0",
            "_model_name": "LayoutModel",
            "_view_count": null,
            "_view_module": "@jupyter-widgets/base",
            "_view_module_version": "1.2.0",
            "_view_name": "LayoutView",
            "align_content": null,
            "align_items": null,
            "align_self": null,
            "border": null,
            "bottom": null,
            "display": null,
            "flex": null,
            "flex_flow": null,
            "grid_area": null,
            "grid_auto_columns": null,
            "grid_auto_flow": null,
            "grid_auto_rows": null,
            "grid_column": null,
            "grid_gap": null,
            "grid_row": null,
            "grid_template_areas": null,
            "grid_template_columns": null,
            "grid_template_rows": null,
            "height": null,
            "justify_content": null,
            "justify_items": null,
            "left": null,
            "margin": null,
            "max_height": null,
            "max_width": null,
            "min_height": null,
            "min_width": null,
            "object_fit": null,
            "object_position": null,
            "order": null,
            "overflow": null,
            "overflow_x": null,
            "overflow_y": null,
            "padding": null,
            "right": null,
            "top": null,
            "visibility": null,
            "width": null
          }
        },
        "926f8e5e04f843049ac35034e3e505a7": {
          "model_module": "@jupyter-widgets/controls",
          "model_name": "ProgressStyleModel",
          "model_module_version": "1.5.0",
          "state": {
            "_model_module": "@jupyter-widgets/controls",
            "_model_module_version": "1.5.0",
            "_model_name": "ProgressStyleModel",
            "_view_count": null,
            "_view_module": "@jupyter-widgets/base",
            "_view_module_version": "1.2.0",
            "_view_name": "StyleView",
            "bar_color": null,
            "description_width": ""
          }
        },
        "9f5e7608fd314698af23abe88faac46c": {
          "model_module": "@jupyter-widgets/base",
          "model_name": "LayoutModel",
          "model_module_version": "1.2.0",
          "state": {
            "_model_module": "@jupyter-widgets/base",
            "_model_module_version": "1.2.0",
            "_model_name": "LayoutModel",
            "_view_count": null,
            "_view_module": "@jupyter-widgets/base",
            "_view_module_version": "1.2.0",
            "_view_name": "LayoutView",
            "align_content": null,
            "align_items": null,
            "align_self": null,
            "border": null,
            "bottom": null,
            "display": null,
            "flex": null,
            "flex_flow": null,
            "grid_area": null,
            "grid_auto_columns": null,
            "grid_auto_flow": null,
            "grid_auto_rows": null,
            "grid_column": null,
            "grid_gap": null,
            "grid_row": null,
            "grid_template_areas": null,
            "grid_template_columns": null,
            "grid_template_rows": null,
            "height": null,
            "justify_content": null,
            "justify_items": null,
            "left": null,
            "margin": null,
            "max_height": null,
            "max_width": null,
            "min_height": null,
            "min_width": null,
            "object_fit": null,
            "object_position": null,
            "order": null,
            "overflow": null,
            "overflow_x": null,
            "overflow_y": null,
            "padding": null,
            "right": null,
            "top": null,
            "visibility": null,
            "width": null
          }
        },
        "650fbfe97a14400496a2e28544e738c1": {
          "model_module": "@jupyter-widgets/controls",
          "model_name": "DescriptionStyleModel",
          "model_module_version": "1.5.0",
          "state": {
            "_model_module": "@jupyter-widgets/controls",
            "_model_module_version": "1.5.0",
            "_model_name": "DescriptionStyleModel",
            "_view_count": null,
            "_view_module": "@jupyter-widgets/base",
            "_view_module_version": "1.2.0",
            "_view_name": "StyleView",
            "description_width": ""
          }
        },
        "368f45074a81401892897017d2c79434": {
          "model_module": "@jupyter-widgets/controls",
          "model_name": "HTMLModel",
          "model_module_version": "1.5.0",
          "state": {
            "_dom_classes": [],
            "_model_module": "@jupyter-widgets/controls",
            "_model_module_version": "1.5.0",
            "_model_name": "HTMLModel",
            "_view_count": null,
            "_view_module": "@jupyter-widgets/controls",
            "_view_module_version": "1.5.0",
            "_view_name": "HTMLView",
            "description": "",
            "description_tooltip": null,
            "layout": "IPY_MODEL_d8a611dff17e4ecc9e2c04c3fedfd060",
            "placeholder": "​",
            "style": "IPY_MODEL_bc44039522504866b6cb8243f9748f88",
            "value": "<img src=\"data:image/gif;base64,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\" />"
          }
        },
        "d8a611dff17e4ecc9e2c04c3fedfd060": {
          "model_module": "@jupyter-widgets/base",
          "model_name": "LayoutModel",
          "model_module_version": "1.2.0",
          "state": {
            "_model_module": "@jupyter-widgets/base",
            "_model_module_version": "1.2.0",
            "_model_name": "LayoutModel",
            "_view_count": null,
            "_view_module": "@jupyter-widgets/base",
            "_view_module_version": "1.2.0",
            "_view_name": "LayoutView",
            "align_content": null,
            "align_items": null,
            "align_self": null,
            "border": null,
            "bottom": null,
            "display": null,
            "flex": null,
            "flex_flow": null,
            "grid_area": null,
            "grid_auto_columns": null,
            "grid_auto_flow": null,
            "grid_auto_rows": null,
            "grid_column": null,
            "grid_gap": null,
            "grid_row": null,
            "grid_template_areas": null,
            "grid_template_columns": null,
            "grid_template_rows": null,
            "height": null,
            "justify_content": null,
            "justify_items": null,
            "left": null,
            "margin": null,
            "max_height": null,
            "max_width": null,
            "min_height": null,
            "min_width": null,
            "object_fit": null,
            "object_position": null,
            "order": null,
            "overflow": null,
            "overflow_x": null,
            "overflow_y": null,
            "padding": null,
            "right": null,
            "top": null,
            "visibility": null,
            "width": null
          }
        },
        "bc44039522504866b6cb8243f9748f88": {
          "model_module": "@jupyter-widgets/controls",
          "model_name": "DescriptionStyleModel",
          "model_module_version": "1.5.0",
          "state": {
            "_model_module": "@jupyter-widgets/controls",
            "_model_module_version": "1.5.0",
            "_model_name": "DescriptionStyleModel",
            "_view_count": null,
            "_view_module": "@jupyter-widgets/base",
            "_view_module_version": "1.2.0",
            "_view_name": "StyleView",
            "description_width": ""
          }
        }
      }
    }
  },
  "nbformat": 4,
  "nbformat_minor": 0
}